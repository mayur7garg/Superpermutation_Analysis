{
  "nbformat": 4,
  "nbformat_minor": 0,
  "metadata": {
    "colab": {
      "name": "Superpermutations_GA.ipynb",
      "provenance": [],
      "authorship_tag": "ABX9TyNTtqs4R8cKB1YBWGYXGRge",
      "include_colab_link": true
    },
    "kernelspec": {
      "name": "python3",
      "display_name": "Python 3"
    }
  },
  "cells": [
    {
      "cell_type": "markdown",
      "metadata": {
        "id": "view-in-github",
        "colab_type": "text"
      },
      "source": [
        "<a href=\"https://colab.research.google.com/github/mayur7garg/Superpermutation_Analysis/blob/main/Superpermutations_GA.ipynb\" target=\"_parent\"><img src=\"https://colab.research.google.com/assets/colab-badge.svg\" alt=\"Open In Colab\"/></a>"
      ]
    },
    {
      "cell_type": "code",
      "metadata": {
        "id": "WsRhJOike_yy"
      },
      "source": [
        "from itertools import permutations\n",
        "from random import sample, choices, randint, random"
      ],
      "execution_count": 1,
      "outputs": []
    },
    {
      "cell_type": "code",
      "metadata": {
        "id": "ukhpDNHjfVAe"
      },
      "source": [
        "class SuperPerm_GA():\n",
        "    \n",
        "    def __init__(self, n, population_size, elitism, mutation, repeated_mutations = True, weighted_selection = False, weights_multiplier = 1000):\n",
        "        self.n = n\n",
        "        self.population_size = population_size\n",
        "        self.elitism = elitism\n",
        "        self.mutation = mutation\n",
        "        self.repeated_mutations = repeated_mutations\n",
        "        self.weighted_selection = weighted_selection\n",
        "        self.weights_multiplier = weights_multiplier\n",
        "        self.current_generation = 0\n",
        "\n",
        "        chars = 'ABCDEFGHIJKLMNOPQRSTUVWXYZ'\n",
        "        self.perms = list(permutations(chars[:n]))\n",
        "        self.perms = [''.join(j) for j in self.perms]\n",
        "        self.total_perms = len(self.perms)\n",
        "    \n",
        "        base_DNA = [i for i in range(self.total_perms)]\n",
        "        self.population = [[base_DNA[0]] + sample(base_DNA[1:], self.total_perms - 1) for i in range(self.population_size)]\n",
        "\n",
        "        self.scores = self.get_population_scores()\n",
        "        self.best_scores_per_generation = [self.scores[0][0]]\n",
        "\n",
        "    def join_perms(self, a, b):\n",
        "        for i in range(self.n - 1, 0, -1):\n",
        "            if a[-i:] == b [:i]:\n",
        "                return a + b[i:]\n",
        "        return a + b\n",
        "\n",
        "    def get_superperm(self, dna):\n",
        "        superperm = self.perms[dna[0]]\n",
        "        for gene in dna[1:]:\n",
        "            superperm = self.join_perms(superperm, self.perms[gene])\n",
        "        return superperm\n",
        "\n",
        "    def get_dna_score(self, id):\n",
        "        superperm = self.get_superperm(self.population[id])\n",
        "        return (len(superperm), id)\n",
        "    \n",
        "    def get_population_scores(self):\n",
        "        return sorted(list(map(self.get_dna_score, range(self.population_size))))\n",
        "\n",
        "    def get_dna_weights(self):\n",
        "        return [int(self.weights_multiplier/score[0]) for score in self.scores]\n",
        "    \n",
        "    def crossover(self, first_dna, second_dna):\n",
        "        r = randint(0, self.total_perms)\n",
        "        child_dna = first_dna[:r]\n",
        "        for gene in second_dna:\n",
        "            if gene not in child_dna:\n",
        "                child_dna.append(gene)\n",
        "        return child_dna\n",
        "    \n",
        "    def mutate(self, dna):\n",
        "        r = random()\n",
        "        while r < self.mutation:\n",
        "            i = randint(1, len(dna) - 1)\n",
        "            j = randint(1, len(dna) - 1)\n",
        "            dna[i], dna[j] = dna[j], dna[i]\n",
        "            if self.repeated_mutations:\n",
        "                r = random()\n",
        "            else:\n",
        "                break\n",
        "        return dna\n",
        "    \n",
        "    def get_next_generation(self):\n",
        "        new_population = []\n",
        "        for i in range(self.elitism):\n",
        "            j = i\n",
        "            while j < self.population_size:\n",
        "                if self.population[self.scores[j][1]] not in new_population:\n",
        "                    new_population.append(self.population[self.scores[j][1]])\n",
        "                    break\n",
        "                else:\n",
        "                    j = j + 1\n",
        "        if self.weighted_selection:\n",
        "            for i in range(self.population_size - len(new_population)):\n",
        "                new_population.append(self.mutate(self.crossover(*choices(population = self.population, k=2, weights = self.get_dna_weights()))))\n",
        "        else:\n",
        "            for i in range(self.population_size - len(new_population)):\n",
        "                new_population.append(self.mutate(self.crossover(*sample(self.population, 2))))\n",
        "        return new_population\n",
        "    \n",
        "    def iterate_generations(self, generations, print_best_score = True):\n",
        "        for i in range(generations):\n",
        "            self.population = self.get_next_generation()\n",
        "            self.scores = self.get_population_scores()\n",
        "            self.best_scores_per_generation.append(self.scores[0][0])\n",
        "            self.current_generation += 1\n",
        "            if print_best_score:\n",
        "                print(f\"Generation: {self.current_generation} | Best score: {self.scores[0][0]}\\n\")\n",
        "    \n",
        "    def get_best_superperms(self, k):\n",
        "        superperms = []\n",
        "        for i in range(k):\n",
        "            superperms.append(self.get_superperm(self.population[self.scores[i][1]]))\n",
        "        return superperms"
      ],
      "execution_count": 47,
      "outputs": []
    },
    {
      "cell_type": "code",
      "metadata": {
        "id": "dmxhJDj0g7IF"
      },
      "source": [
        "ga = SuperPerm_GA(5, 1000, 100, 0.2)"
      ],
      "execution_count": 48,
      "outputs": []
    },
    {
      "cell_type": "code",
      "metadata": {
        "id": "73hzmIqdhWph",
        "outputId": "027cfa9a-7b73-4298-cf3d-c0ad570662bf",
        "colab": {
          "base_uri": "https://localhost:8080/",
          "height": 1000
        }
      },
      "source": [
        "ga.iterate_generations(100)"
      ],
      "execution_count": 49,
      "outputs": [
        {
          "output_type": "stream",
          "text": [
            "Generation: 1 | Best score: 525\n",
            "\n",
            "Generation: 2 | Best score: 525\n",
            "\n",
            "Generation: 3 | Best score: 525\n",
            "\n",
            "Generation: 4 | Best score: 515\n",
            "\n",
            "Generation: 5 | Best score: 515\n",
            "\n",
            "Generation: 6 | Best score: 515\n",
            "\n",
            "Generation: 7 | Best score: 515\n",
            "\n",
            "Generation: 8 | Best score: 515\n",
            "\n",
            "Generation: 9 | Best score: 511\n",
            "\n",
            "Generation: 10 | Best score: 511\n",
            "\n",
            "Generation: 11 | Best score: 511\n",
            "\n",
            "Generation: 12 | Best score: 511\n",
            "\n",
            "Generation: 13 | Best score: 511\n",
            "\n",
            "Generation: 14 | Best score: 511\n",
            "\n",
            "Generation: 15 | Best score: 511\n",
            "\n",
            "Generation: 16 | Best score: 511\n",
            "\n",
            "Generation: 17 | Best score: 511\n",
            "\n",
            "Generation: 18 | Best score: 509\n",
            "\n",
            "Generation: 19 | Best score: 509\n",
            "\n",
            "Generation: 20 | Best score: 507\n",
            "\n",
            "Generation: 21 | Best score: 506\n",
            "\n",
            "Generation: 22 | Best score: 504\n",
            "\n",
            "Generation: 23 | Best score: 501\n",
            "\n",
            "Generation: 24 | Best score: 501\n",
            "\n",
            "Generation: 25 | Best score: 501\n",
            "\n",
            "Generation: 26 | Best score: 500\n",
            "\n",
            "Generation: 27 | Best score: 499\n",
            "\n",
            "Generation: 28 | Best score: 498\n",
            "\n",
            "Generation: 29 | Best score: 498\n",
            "\n",
            "Generation: 30 | Best score: 498\n",
            "\n",
            "Generation: 31 | Best score: 497\n",
            "\n",
            "Generation: 32 | Best score: 489\n",
            "\n",
            "Generation: 33 | Best score: 488\n",
            "\n",
            "Generation: 34 | Best score: 488\n",
            "\n",
            "Generation: 35 | Best score: 488\n",
            "\n",
            "Generation: 36 | Best score: 488\n",
            "\n",
            "Generation: 37 | Best score: 488\n",
            "\n",
            "Generation: 38 | Best score: 488\n",
            "\n",
            "Generation: 39 | Best score: 484\n",
            "\n",
            "Generation: 40 | Best score: 483\n",
            "\n",
            "Generation: 41 | Best score: 483\n",
            "\n",
            "Generation: 42 | Best score: 483\n",
            "\n",
            "Generation: 43 | Best score: 483\n",
            "\n",
            "Generation: 44 | Best score: 483\n",
            "\n",
            "Generation: 45 | Best score: 483\n",
            "\n",
            "Generation: 46 | Best score: 483\n",
            "\n",
            "Generation: 47 | Best score: 483\n",
            "\n",
            "Generation: 48 | Best score: 479\n",
            "\n",
            "Generation: 49 | Best score: 479\n",
            "\n",
            "Generation: 50 | Best score: 479\n",
            "\n",
            "Generation: 51 | Best score: 479\n",
            "\n",
            "Generation: 52 | Best score: 479\n",
            "\n",
            "Generation: 53 | Best score: 476\n",
            "\n",
            "Generation: 54 | Best score: 474\n",
            "\n",
            "Generation: 55 | Best score: 474\n",
            "\n",
            "Generation: 56 | Best score: 474\n",
            "\n",
            "Generation: 57 | Best score: 474\n",
            "\n",
            "Generation: 58 | Best score: 472\n",
            "\n",
            "Generation: 59 | Best score: 467\n",
            "\n",
            "Generation: 60 | Best score: 467\n",
            "\n",
            "Generation: 61 | Best score: 467\n",
            "\n",
            "Generation: 62 | Best score: 467\n",
            "\n",
            "Generation: 63 | Best score: 467\n",
            "\n",
            "Generation: 64 | Best score: 467\n",
            "\n",
            "Generation: 65 | Best score: 467\n",
            "\n",
            "Generation: 66 | Best score: 467\n",
            "\n",
            "Generation: 67 | Best score: 467\n",
            "\n",
            "Generation: 68 | Best score: 466\n",
            "\n",
            "Generation: 69 | Best score: 466\n",
            "\n",
            "Generation: 70 | Best score: 466\n",
            "\n",
            "Generation: 71 | Best score: 463\n",
            "\n",
            "Generation: 72 | Best score: 463\n",
            "\n",
            "Generation: 73 | Best score: 463\n",
            "\n",
            "Generation: 74 | Best score: 462\n",
            "\n",
            "Generation: 75 | Best score: 462\n",
            "\n",
            "Generation: 76 | Best score: 462\n",
            "\n",
            "Generation: 77 | Best score: 462\n",
            "\n",
            "Generation: 78 | Best score: 462\n",
            "\n",
            "Generation: 79 | Best score: 462\n",
            "\n",
            "Generation: 80 | Best score: 460\n",
            "\n",
            "Generation: 81 | Best score: 460\n",
            "\n",
            "Generation: 82 | Best score: 459\n",
            "\n",
            "Generation: 83 | Best score: 459\n",
            "\n",
            "Generation: 84 | Best score: 459\n",
            "\n",
            "Generation: 85 | Best score: 459\n",
            "\n",
            "Generation: 86 | Best score: 459\n",
            "\n",
            "Generation: 87 | Best score: 459\n",
            "\n",
            "Generation: 88 | Best score: 459\n",
            "\n",
            "Generation: 89 | Best score: 459\n",
            "\n",
            "Generation: 90 | Best score: 459\n",
            "\n",
            "Generation: 91 | Best score: 453\n",
            "\n",
            "Generation: 92 | Best score: 453\n",
            "\n",
            "Generation: 93 | Best score: 453\n",
            "\n",
            "Generation: 94 | Best score: 453\n",
            "\n",
            "Generation: 95 | Best score: 453\n",
            "\n",
            "Generation: 96 | Best score: 452\n",
            "\n",
            "Generation: 97 | Best score: 452\n",
            "\n",
            "Generation: 98 | Best score: 452\n",
            "\n",
            "Generation: 99 | Best score: 452\n",
            "\n",
            "Generation: 100 | Best score: 452\n",
            "\n"
          ],
          "name": "stdout"
        }
      ]
    },
    {
      "cell_type": "code",
      "metadata": {
        "id": "S6r7ievDmGQ6"
      },
      "source": [
        "x = ga.get_best_superperms(3)"
      ],
      "execution_count": 52,
      "outputs": []
    },
    {
      "cell_type": "code",
      "metadata": {
        "id": "ToZ-yegCnwph",
        "outputId": "4cd40370-503d-48d2-8cf5-551c37b193b4",
        "colab": {
          "base_uri": "https://localhost:8080/",
          "height": 72
        }
      },
      "source": [
        "x[0]"
      ],
      "execution_count": 53,
      "outputs": [
        {
          "output_type": "execute_result",
          "data": {
            "application/vnd.google.colaboratory.intrinsic+json": {
              "type": "string"
            },
            "text/plain": [
              "'ABCDECBDABEDCABEDABCDBAECBEDCADEBCAEDBADCEDBECABDAECDABECDCBAEDABDECACBEDACEBADBAECDECABEADCEABCDEACADBEDBACBEACDEBADCBEADCBEDBCAEBCDACDEABDCEDCBAECDBAEADBECDABECDABCEDAEBDACEDABCEADCABEDCEBDABCEBADECBEBADCEBACEDBACBADEACDBEDACEBCADEBDCEABECADCBEACBDEACEABDCDBACEDCDBEACAEDBCBEDACBEACDEBECDBAECABDACEAEDCBCADEDCAEBCDECBADBAEDCABCEDAEBCDAEBACDEBCAEBDCAECADBCEADBCEACDBCAEDEBACEBDCADAECBACDEABCDBECDACBEADCABDEACBDAECEADBAEBDCAEDBCEAECBDBCDAEDCABEACBDEAC'"
            ]
          },
          "metadata": {
            "tags": []
          },
          "execution_count": 53
        }
      ]
    },
    {
      "cell_type": "code",
      "metadata": {
        "id": "aA4wMMU1n0LS",
        "outputId": "c25c6617-8229-4308-9596-4b315d412515",
        "colab": {
          "base_uri": "https://localhost:8080/",
          "height": 35
        }
      },
      "source": [
        "len(ga.best_scores_per_generation)"
      ],
      "execution_count": 51,
      "outputs": [
        {
          "output_type": "execute_result",
          "data": {
            "text/plain": [
              "101"
            ]
          },
          "metadata": {
            "tags": []
          },
          "execution_count": 51
        }
      ]
    },
    {
      "cell_type": "code",
      "metadata": {
        "id": "RVQunkw1p94Y"
      },
      "source": [
        ""
      ],
      "execution_count": null,
      "outputs": []
    }
  ]
}